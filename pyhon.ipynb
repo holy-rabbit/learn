{
  "cells": [
    {
      "cell_type": "markdown",
      "metadata": {
        "id": "view-in-github",
        "colab_type": "text"
      },
      "source": [
        "<a href=\"https://colab.research.google.com/github/holy-rabbit/learn/blob/main/pyhon.ipynb\" target=\"_parent\"><img src=\"https://colab.research.google.com/assets/colab-badge.svg\" alt=\"Open In Colab\"/></a>"
      ]
    },
    {
      "cell_type": "code",
      "execution_count": null,
      "metadata": {
        "id": "-LCz_aOdFOar",
        "outputId": "613a867c-6763-463d-90d7-a95028c58a9c"
      },
      "outputs": [
        {
          "name": "stdout",
          "output_type": "stream",
          "text": [
            "Gyan has started\n"
          ]
        }
      ],
      "source": [
        "print(\"Gyan has started\")"
      ]
    },
    {
      "cell_type": "code",
      "execution_count": null,
      "metadata": {
        "id": "iGMYNa3yFOas",
        "outputId": "dc6d2df0-7bb0-4cdc-8e93-ec2f802ed02a"
      },
      "outputs": [
        {
          "name": "stdout",
          "output_type": "stream",
          "text": [
            "Its really good\n"
          ]
        }
      ],
      "source": [
        "print(\"Its really good\")"
      ]
    },
    {
      "cell_type": "markdown",
      "metadata": {
        "id": "DbTuNhLLFOat"
      },
      "source": [
        "Variables>> a variable is an identifier that references a memory location storing a value"
      ]
    },
    {
      "cell_type": "code",
      "execution_count": null,
      "metadata": {
        "id": "3XhhRBtoFOau",
        "outputId": "c2222629-df6a-4fe4-c04e-398ce4c348b1"
      },
      "outputs": [
        {
          "name": "stdout",
          "output_type": "stream",
          "text": [
            "hello Gyanaranjan\n",
            "My fav food is gobi manchurian\n"
          ]
        }
      ],
      "source": [
        "#variables\n",
        "#strings\n",
        "first_name=\"Gyanaranjan\"\n",
        "print(f\"hello {first_name}\")\n",
        "food=\"gobi manchurian\"\n",
        "print(f\"My fav food is {food}\")"
      ]
    },
    {
      "cell_type": "code",
      "execution_count": null,
      "metadata": {
        "id": "gX3DTklZFOav",
        "outputId": "48d2d8fd-c3e0-4452-8a0b-d7a688f65c07"
      },
      "outputs": [
        {
          "name": "stdout",
          "output_type": "stream",
          "text": [
            "I am 21 years old and i have 7 friends\n"
          ]
        }
      ],
      "source": [
        "#intergers\n",
        "age=21\n",
        "quantity=7\n",
        "print(f\"I am {age} years old and i have {quantity} friends\")"
      ]
    },
    {
      "cell_type": "code",
      "execution_count": null,
      "metadata": {
        "id": "WTz-LdIpFOaw",
        "outputId": "b1e07777-1411-43d6-ed63-a8cd05250a72"
      },
      "outputs": [
        {
          "name": "stdout",
          "output_type": "stream",
          "text": [
            "My gpa is 8.5\n"
          ]
        }
      ],
      "source": [
        "#float\n",
        "gpa=8.5\n",
        "print(f\"My gpa is {gpa}\")"
      ]
    },
    {
      "cell_type": "code",
      "execution_count": null,
      "metadata": {
        "id": "FX5EkJ7QFOaw",
        "outputId": "19bfcd7b-a014-458f-8383-3280906b76c9"
      },
      "outputs": [
        {
          "name": "stdout",
          "output_type": "stream",
          "text": [
            "Gyan is a student:False\n"
          ]
        }
      ],
      "source": [
        "#Boolean\n",
        "is_student=False\n",
        "print(f\"Gyan is a student:{is_student}\")"
      ]
    },
    {
      "cell_type": "markdown",
      "metadata": {
        "id": "ILI1x2joFOax"
      },
      "source": [
        "Type Casting>> The process of converting a variable from one data type to another"
      ]
    },
    {
      "cell_type": "code",
      "execution_count": null,
      "metadata": {
        "id": "Sq56PE_rFOay",
        "outputId": "98cb59ae-9870-470a-a721-8c0fa621c3e8"
      },
      "outputs": [
        {
          "name": "stdout",
          "output_type": "stream",
          "text": [
            "<class 'bool'>\n",
            "8\n",
            "21\n",
            "True\n"
          ]
        }
      ],
      "source": [
        "#type casting\n",
        "name=\"Gyan\"\n",
        "age=21\n",
        "gpa=8.5\n",
        "is_student=True\n",
        "print(type(is_student))\n",
        "\n",
        "#float to int\n",
        "gpa=int(gpa)\n",
        "print(gpa)\n",
        "\n",
        "age=str(age)\n",
        "print(age)\n",
        "\n",
        "name=bool(name)\n",
        "print(name)"
      ]
    },
    {
      "cell_type": "markdown",
      "metadata": {
        "id": "n8HfLGSSFOa0"
      },
      "source": [
        "Input function>> A program that prompts the user to enter data\n",
        "                 Returns the entered data as a string"
      ]
    },
    {
      "cell_type": "code",
      "execution_count": 13,
      "metadata": {
        "colab": {
          "base_uri": "https://localhost:8080/"
        },
        "id": "l7ldMeHqFOa0",
        "outputId": "ba3b5b2e-9fa5-4d3e-a71d-f254581c7b37"
      },
      "outputs": [
        {
          "output_type": "stream",
          "name": "stdout",
          "text": [
            "What is your name?: Gyan\n",
            "How old are you?: 21\n",
            "Hello! Gyan You are 20 years old.\n"
          ]
        }
      ],
      "source": [
        "name=input(\"What is your name?: \")\n",
        "age = int(input(\"How old are you?: \"))\n",
        "#age=int(age)\n",
        "age = age-1\n",
        "print(f\"Hello! {name} You are {age} years old.\")\n"
      ]
    },
    {
      "cell_type": "code",
      "source": [
        "#Exercise 1 >> Area of rectangle\n",
        "\n",
        "length=float(input(\"Enter the Length of the rectangle(in cm):\"))\n",
        "breadth=float(input(\"Enter the breadth of the rectangle(in cm): \"))\n",
        "area=length*breadth\n",
        "print(f\"\\nThe area of the rectangle is {area} cm²\")"
      ],
      "metadata": {
        "colab": {
          "base_uri": "https://localhost:8080/"
        },
        "id": "Qfq3smPvFRAS",
        "outputId": "debaa7b3-1b7e-4ca2-ff81-ed87b19a0745"
      },
      "execution_count": 19,
      "outputs": [
        {
          "output_type": "stream",
          "name": "stdout",
          "text": [
            "Enter the Length of the rectangle(in cm):12\n",
            "Enter the breadth of the rectangle(in cm): 6\n",
            "\n",
            "The area of the rectangle is 72.0 cm²\n"
          ]
        }
      ]
    },
    {
      "cell_type": "code",
      "source": [
        "#Exercise 2 >> Shopping cart program\n",
        "\n",
        "item = input(\"What item do you want? : \")\n",
        "price=float(input(\"What is its price?:\"))\n",
        "quantity= int(input(\"How many would you like? :\"))\n",
        "total=price*quantity\n",
        "\n",
        "print(f\"You have bought {quantity} {item}/s\")\n",
        "print(f\"Your total is Rs.{total}\")\n"
      ],
      "metadata": {
        "colab": {
          "base_uri": "https://localhost:8080/"
        },
        "id": "4-5RrXqxIkxB",
        "outputId": "848fbccd-b8ca-4af0-f71e-200000cf67e1"
      },
      "execution_count": 23,
      "outputs": [
        {
          "output_type": "stream",
          "name": "stdout",
          "text": [
            "What item do you want? : Banana\n",
            "What is its price?:5\n",
            "How many would you like? :12\n",
            "You have bought 12 Banana/s\n",
            "Your total is Rs.60.0\n"
          ]
        }
      ]
    },
    {
      "cell_type": "code",
      "source": [],
      "metadata": {
        "id": "wbKAuKBLLwIR"
      },
      "execution_count": null,
      "outputs": []
    }
  ],
  "metadata": {
    "kernelspec": {
      "display_name": "Python 3",
      "language": "python",
      "name": "python3"
    },
    "language_info": {
      "codemirror_mode": {
        "name": "ipython",
        "version": 3
      },
      "file_extension": ".py",
      "mimetype": "text/x-python",
      "name": "python",
      "nbconvert_exporter": "python",
      "pygments_lexer": "ipython3",
      "version": "3.13.2"
    },
    "colab": {
      "provenance": [],
      "include_colab_link": true
    }
  },
  "nbformat": 4,
  "nbformat_minor": 0
}